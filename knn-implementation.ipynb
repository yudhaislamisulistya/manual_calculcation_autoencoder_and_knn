{
 "cells": [
  {
   "cell_type": "code",
   "execution_count": 1,
   "id": "471f9d1a",
   "metadata": {
    "execution": {
     "iopub.execute_input": "2024-06-09T14:52:19.888473Z",
     "iopub.status.busy": "2024-06-09T14:52:19.888216Z",
     "iopub.status.idle": "2024-06-09T14:52:19.892607Z",
     "shell.execute_reply": "2024-06-09T14:52:19.891805Z"
    },
    "papermill": {
     "duration": 0.010317,
     "end_time": "2024-06-09T14:52:19.894579",
     "exception": false,
     "start_time": "2024-06-09T14:52:19.884262",
     "status": "completed"
    },
    "tags": []
   },
   "outputs": [],
   "source": [
    "# !pip install seaborn openpyxl"
   ]
  },
  {
   "cell_type": "code",
   "execution_count": 2,
   "id": "c0a74f0b",
   "metadata": {
    "execution": {
     "iopub.execute_input": "2024-06-09T14:52:19.901169Z",
     "iopub.status.busy": "2024-06-09T14:52:19.900584Z",
     "iopub.status.idle": "2024-06-09T14:52:22.010898Z",
     "shell.execute_reply": "2024-06-09T14:52:22.010000Z"
    },
    "papermill": {
     "duration": 2.115853,
     "end_time": "2024-06-09T14:52:22.013151",
     "exception": false,
     "start_time": "2024-06-09T14:52:19.897298",
     "status": "completed"
    },
    "tags": []
   },
   "outputs": [],
   "source": [
    "import pandas as pd\n",
    "import numpy as np\n",
    "import math\n",
    "import matplotlib.pyplot as plt\n",
    "import seaborn as sns\n",
    "from sklearn.metrics import accuracy_score, precision_score, recall_score, f1_score, confusion_matrix, classification_report\n",
    "import seaborn as sns\n",
    "import warnings \n",
    "import time\n",
    "warnings.filterwarnings('ignore')"
   ]
  },
  {
   "cell_type": "code",
   "execution_count": 3,
   "id": "474a7798",
   "metadata": {
    "execution": {
     "iopub.execute_input": "2024-06-09T14:52:22.019775Z",
     "iopub.status.busy": "2024-06-09T14:52:22.019385Z",
     "iopub.status.idle": "2024-06-09T14:52:25.156844Z",
     "shell.execute_reply": "2024-06-09T14:52:25.155578Z"
    },
    "papermill": {
     "duration": 3.145224,
     "end_time": "2024-06-09T14:52:25.161211",
     "exception": false,
     "start_time": "2024-06-09T14:52:22.015987",
     "status": "completed"
    },
    "tags": []
   },
   "outputs": [
    {
     "name": "stdout",
     "output_type": "stream",
     "text": [
      "Jumlah data untuk setiap variabel di X_train:\n",
      "duration                       394045\n",
      "protocol_type                  394045\n",
      "service                        394045\n",
      "flag                           394045\n",
      "src_bytes                      394045\n",
      "dst_bytes                      394045\n",
      "land                           394045\n",
      "wrong_fragment                 394045\n",
      "urgent                         394045\n",
      "hot                            394045\n",
      "num_failed_logins              394045\n",
      "logged_in                      394045\n",
      "lnum_compromised               394045\n",
      "lroot_shell                    394045\n",
      "lsu_attempted                  394045\n",
      "lnum_root                      394045\n",
      "lnum_file_creations            394045\n",
      "lnum_shells                    394045\n",
      "lnum_access_files              394045\n",
      "lnum_outbound_cmds             394045\n",
      "is_host_login                  394045\n",
      "is_guest_login                 394045\n",
      "count                          394045\n",
      "srv_count                      394045\n",
      "serror_rate                    394045\n",
      "srv_serror_rate                394045\n",
      "rerror_rate                    394045\n",
      "srv_rerror_rate                394045\n",
      "same_srv_rate                  394045\n",
      "diff_srv_rate                  394045\n",
      "srv_diff_host_rate             394045\n",
      "dst_host_count                 394045\n",
      "dst_host_srv_count             394045\n",
      "dst_host_same_srv_rate         394045\n",
      "dst_host_diff_srv_rate         394045\n",
      "dst_host_same_src_port_rate    394045\n",
      "dst_host_srv_diff_host_rate    394045\n",
      "dst_host_serror_rate           394045\n",
      "dst_host_srv_serror_rate       394045\n",
      "dst_host_rerror_rate           394045\n",
      "dst_host_srv_rerror_rate       394045\n",
      "dtype: int64\n",
      "\n",
      "Jumlah data untuk setiap variabel di X_test:\n",
      "duration                       98512\n",
      "protocol_type                  98512\n",
      "service                        98512\n",
      "flag                           98512\n",
      "src_bytes                      98512\n",
      "dst_bytes                      98512\n",
      "land                           98512\n",
      "wrong_fragment                 98512\n",
      "urgent                         98512\n",
      "hot                            98512\n",
      "num_failed_logins              98512\n",
      "logged_in                      98512\n",
      "lnum_compromised               98512\n",
      "lroot_shell                    98512\n",
      "lsu_attempted                  98512\n",
      "lnum_root                      98512\n",
      "lnum_file_creations            98512\n",
      "lnum_shells                    98512\n",
      "lnum_access_files              98512\n",
      "lnum_outbound_cmds             98512\n",
      "is_host_login                  98512\n",
      "is_guest_login                 98512\n",
      "count                          98512\n",
      "srv_count                      98512\n",
      "serror_rate                    98512\n",
      "srv_serror_rate                98512\n",
      "rerror_rate                    98512\n",
      "srv_rerror_rate                98512\n",
      "same_srv_rate                  98512\n",
      "diff_srv_rate                  98512\n",
      "srv_diff_host_rate             98512\n",
      "dst_host_count                 98512\n",
      "dst_host_srv_count             98512\n",
      "dst_host_same_srv_rate         98512\n",
      "dst_host_diff_srv_rate         98512\n",
      "dst_host_same_src_port_rate    98512\n",
      "dst_host_srv_diff_host_rate    98512\n",
      "dst_host_serror_rate           98512\n",
      "dst_host_srv_serror_rate       98512\n",
      "dst_host_rerror_rate           98512\n",
      "dst_host_srv_rerror_rate       98512\n",
      "dtype: int64\n",
      "\n",
      "Jumlah data untuk setiap variabel di y_train:\n",
      "label    394045\n",
      "dtype: int64\n",
      "\n",
      "Jumlah data untuk setiap variabel di y_test:\n",
      "label    98512\n",
      "dtype: int64\n"
     ]
    }
   ],
   "source": [
    "import pandas as pd\n",
    "\n",
    "# Membaca data dari file CSV\n",
    "X_train = pd.read_csv('/kaggle/input/dataset-sarah/X_train.csv', sep=';')\n",
    "X_test = pd.read_csv('/kaggle/input/dataset-sarah/X_test.csv', sep=';')\n",
    "y_train = pd.read_csv('/kaggle/input/dataset-sarah/y_train.csv')\n",
    "y_test = pd.read_csv('/kaggle/input/dataset-sarah/y_test.csv')\n",
    "\n",
    "# Menghitung jumlah data untuk setiap variabel di X_train\n",
    "print(\"Jumlah data untuk setiap variabel di X_train:\")\n",
    "print(X_train.count())\n",
    "\n",
    "# Menghitung jumlah data untuk setiap variabel di X_test\n",
    "print(\"\\nJumlah data untuk setiap variabel di X_test:\")\n",
    "print(X_test.count())\n",
    "\n",
    "# Menghitung jumlah data untuk setiap variabel di y_train\n",
    "print(\"\\nJumlah data untuk setiap variabel di y_train:\")\n",
    "print(y_train.count())\n",
    "\n",
    "# Menghitung jumlah data untuk setiap variabel di y_test\n",
    "print(\"\\nJumlah data untuk setiap variabel di y_test:\")\n",
    "print(y_test.count())"
   ]
  },
  {
   "cell_type": "code",
   "execution_count": 4,
   "id": "5c78ce09",
   "metadata": {
    "execution": {
     "iopub.execute_input": "2024-06-09T14:52:25.171313Z",
     "iopub.status.busy": "2024-06-09T14:52:25.170899Z",
     "iopub.status.idle": "2024-06-09T14:52:25.202940Z",
     "shell.execute_reply": "2024-06-09T14:52:25.201919Z"
    },
    "papermill": {
     "duration": 0.038841,
     "end_time": "2024-06-09T14:52:25.205026",
     "exception": false,
     "start_time": "2024-06-09T14:52:25.166185",
     "status": "completed"
    },
    "tags": []
   },
   "outputs": [
    {
     "name": "stdout",
     "output_type": "stream",
     "text": [
      "Jumlah data training setelah sampling: 1970\n",
      "Jumlah data testing setelah sampling: 493\n"
     ]
    }
   ],
   "source": [
    "# Menentukan ukuran sampel (misalnya 10% dari total data)\n",
    "sample_fraction = 0.005\n",
    "\n",
    "# Mengambil sampel dari dataset\n",
    "X_train_sample = X_train.sample(frac=sample_fraction, random_state=42)\n",
    "X_test_sample = X_test.sample(frac=sample_fraction, random_state=42)\n",
    "y_train_sample = y_train.loc[X_train_sample.index]\n",
    "y_test_sample = y_test.loc[X_test_sample.index]\n",
    "\n",
    "# Menampilkan jumlah data setelah sampling\n",
    "print(f\"Jumlah data training setelah sampling: {len(X_train_sample)}\")\n",
    "print(f\"Jumlah data testing setelah sampling: {len(X_test_sample)}\")"
   ]
  },
  {
   "cell_type": "code",
   "execution_count": 5,
   "id": "db56e2ba",
   "metadata": {
    "execution": {
     "iopub.execute_input": "2024-06-09T14:52:25.212274Z",
     "iopub.status.busy": "2024-06-09T14:52:25.211698Z",
     "iopub.status.idle": "2024-06-09T14:52:25.232965Z",
     "shell.execute_reply": "2024-06-09T14:52:25.232274Z"
    },
    "papermill": {
     "duration": 0.026859,
     "end_time": "2024-06-09T14:52:25.234796",
     "exception": false,
     "start_time": "2024-06-09T14:52:25.207937",
     "status": "completed"
    },
    "tags": []
   },
   "outputs": [],
   "source": [
    "class KNNClassifier:\n",
    "    def __init__(self, k=5):\n",
    "        self.k = k\n",
    "\n",
    "    def fit(self, X_train, y_train):\n",
    "        self.df_train = pd.concat([X_train, y_train], axis=1)\n",
    "        self.np_X_train = np.array(self.df_train)\n",
    "\n",
    "    def euclidean_distance(self, point1, point2):\n",
    "        sum_squared_distance = 0\n",
    "        for i in range(len(point1) - 1):\n",
    "            sum_squared_distance += math.pow(point1[i] - point2[i], 2)\n",
    "        return math.sqrt(sum_squared_distance)\n",
    "\n",
    "    def vote(self, neighbors):\n",
    "        class_counter = {}\n",
    "        for neighbor in neighbors:\n",
    "            if neighbor[0][-1] in class_counter: \n",
    "                class_counter[neighbor[0][-1]] += 1\n",
    "            else:\n",
    "                class_counter[neighbor[0][-1]] = 1\n",
    "        sorted_votes = sorted(class_counter.items(), key=lambda x: x[1], reverse=True)\n",
    "        return sorted_votes, sorted_votes[0][0]\n",
    "\n",
    "    def predict(self, X_test, y_test):\n",
    "        df_test = pd.concat([X_test, y_test], axis=1)\n",
    "        np_X_test = np.array(df_test)\n",
    "        predictions = []\n",
    "        true_labels = []\n",
    "        results = []\n",
    "\n",
    "        for i in range(len(np_X_test)):\n",
    "            distances = []\n",
    "            for index in range(len(self.np_X_train)):\n",
    "                dist = self.euclidean_distance(np_X_test[i], self.np_X_train[index])\n",
    "                distances.append((self.np_X_train[index], dist))\n",
    "            distances.sort(key=lambda x: x[1])\n",
    "            neighbors = distances[:self.k]\n",
    "            sorted_votes, prediction = self.vote(neighbors)\n",
    "            result = {\n",
    "                \"Data ke\": i+1,\n",
    "                \"Data test\": np_X_test[i],\n",
    "                \"Data train\": neighbors,\n",
    "                \"Jarak\": sorted_votes,\n",
    "                \"Prediksi\": prediction\n",
    "            }\n",
    "            results.append(result)\n",
    "            predictions.append(prediction)\n",
    "            true_labels.append(np_X_test[i][-1])\n",
    "\n",
    "        df_result = pd.DataFrame(results)\n",
    "        df_result.set_index('Data ke', inplace=True)\n",
    "        return df_result, np.array(predictions), np.array(true_labels)\n",
    "\n",
    "def evaluate_knn(k, X_train, X_test, y_train, y_test):\n",
    "    knn = KNNClassifier(k=k)\n",
    "    knn.fit(X_train, y_train)\n",
    "    \n",
    "    start_time = time.time()\n",
    "    df_result, y_pred, y_true = knn.predict(X_test, y_test)\n",
    "    training_time = time.time() - start_time\n",
    "\n",
    "    accuracy = accuracy_score(y_true, y_pred)\n",
    "    precision = precision_score(y_true, y_pred, average='weighted')\n",
    "    recall = recall_score(y_true, y_pred, average='weighted')\n",
    "    f1 = f1_score(y_true, y_pred, average='weighted')\n",
    "    \n",
    "    cm = confusion_matrix(y_true, y_pred)\n",
    "    cr = classification_report(y_true, y_pred)\n",
    "    \n",
    "    # Display confusion matrix as a heatmap\n",
    "    plt.figure(figsize=(10, 7))\n",
    "    sns.heatmap(cm, annot=True, fmt='d', cmap='Blues', xticklabels=set(y_test.values.ravel()), yticklabels=set(y_test.values.ravel()))\n",
    "    plt.title(f'Confusion Matrix for KNN with k={k}')\n",
    "    plt.xlabel('Predicted')\n",
    "    plt.ylabel('True')\n",
    "    plt.show()\n",
    "    \n",
    "    print(f\"Results for KNN with k={k}:\")\n",
    "    print(f\"Training Time: {training_time:.4f} seconds\")\n",
    "    print(f\"Accuracy: {accuracy:.4f}\")\n",
    "    print(f\"Precision: {precision:.4f}\")\n",
    "    print(f\"Recall: {recall:.4f}\")\n",
    "    print(f\"F1 Score: {f1:.4f}\")\n",
    "    print(\"Classification Report:\")\n",
    "    print(cr)\n",
    "    print(\"-\" * 60)\n",
    "    \n",
    "    # Identify misclassified samples\n",
    "    misclassified = X_test[y_test.values.ravel() != y_pred]\n",
    "    misclassified['True Label'] = y_test[y_test.values.ravel() != y_pred].values\n",
    "    misclassified['Predicted Label'] = y_pred[y_test.values.ravel() != y_pred]\n",
    "    \n",
    "    # Export misclassified samples to Excel\n",
    "    misclassified.to_excel(f'misclassified_k{k}.xlsx', index=False)\n",
    "    print(f'Misclassified samples for k={k} have been saved to misclassified_k{k}.xlsx')"
   ]
  },
  {
   "cell_type": "code",
   "execution_count": 6,
   "id": "22597a76",
   "metadata": {
    "execution": {
     "iopub.execute_input": "2024-06-09T14:52:25.241468Z",
     "iopub.status.busy": "2024-06-09T14:52:25.241232Z",
     "iopub.status.idle": "2024-06-09T14:53:57.471753Z",
     "shell.execute_reply": "2024-06-09T14:53:57.470477Z"
    },
    "papermill": {
     "duration": 92.236084,
     "end_time": "2024-06-09T14:53:57.473809",
     "exception": false,
     "start_time": "2024-06-09T14:52:25.237725",
     "status": "completed"
    },
    "tags": []
   },
   "outputs": [
    {
     "data": {
      "image/png": "[encoded data removed]",
      "text/plain": [
       "<Figure size 1000x700 with 2 Axes>"
      ]
     },
     "metadata": {},
     "output_type": "display_data"
    },
    {
     "name": "stdout",
     "output_type": "stream",
     "text": [
      "Results for KNN with k=3:\n",
      "Training Time: 30.4213 seconds\n",
      "Accuracy: 0.9959\n",
      "Precision: 0.9959\n",
      "Recall: 0.9959\n",
      "F1 Score: 0.9959\n",
      "Classification Report:\n",
      "              precision    recall  f1-score   support\n",
      "\n",
      "         0.0       1.00      1.00      1.00       406\n",
      "         1.0       0.99      0.99      0.99        87\n",
      "\n",
      "    accuracy                           1.00       493\n",
      "   macro avg       0.99      0.99      0.99       493\n",
      "weighted avg       1.00      1.00      1.00       493\n",
      "\n",
      "------------------------------------------------------------\n",
      "Misclassified samples for k=3 have been saved to misclassified_k3.xlsx\n"
     ]
    },
    {
     "data": {
      "image/png": "[encoded data removed]",
      "text/plain": [
       "<Figure size 1000x700 with 2 Axes>"
      ]
     },
     "metadata": {},
     "output_type": "display_data"
    },
    {
     "name": "stdout",
     "output_type": "stream",
     "text": [
      "Results for KNN with k=5:\n",
      "Training Time: 30.2580 seconds\n",
      "Accuracy: 0.9959\n",
      "Precision: 0.9959\n",
      "Recall: 0.9959\n",
      "F1 Score: 0.9959\n",
      "Classification Report:\n",
      "              precision    recall  f1-score   support\n",
      "\n",
      "         0.0       1.00      1.00      1.00       406\n",
      "         1.0       0.99      0.99      0.99        87\n",
      "\n",
      "    accuracy                           1.00       493\n",
      "   macro avg       0.99      0.99      0.99       493\n",
      "weighted avg       1.00      1.00      1.00       493\n",
      "\n",
      "------------------------------------------------------------\n",
      "Misclassified samples for k=5 have been saved to misclassified_k5.xlsx\n"
     ]
    },
    {
     "data": {
      "image/png": "[encoded data removed]",
      "text/plain": [
       "<Figure size 1000x700 with 2 Axes>"
      ]
     },
     "metadata": {},
     "output_type": "display_data"
    },
    {
     "name": "stdout",
     "output_type": "stream",
     "text": [
      "Results for KNN with k=7:\n",
      "Training Time: 30.2501 seconds\n",
      "Accuracy: 0.9899\n",
      "Precision: 0.9899\n",
      "Recall: 0.9899\n",
      "F1 Score: 0.9899\n",
      "Classification Report:\n",
      "              precision    recall  f1-score   support\n",
      "\n",
      "         0.0       1.00      0.99      0.99       406\n",
      "         1.0       0.97      0.98      0.97        87\n",
      "\n",
      "    accuracy                           0.99       493\n",
      "   macro avg       0.98      0.98      0.98       493\n",
      "weighted avg       0.99      0.99      0.99       493\n",
      "\n",
      "------------------------------------------------------------\n",
      "Misclassified samples for k=7 have been saved to misclassified_k7.xlsx\n"
     ]
    }
   ],
   "source": [
    "# Evaluate for K = 3, 5, and 7\n",
    "for k in [3, 5, 7]:\n",
    "    evaluate_knn(k, X_train_sample, X_test_sample, y_train_sample, y_test_sample)"
   ]
  }
 ],
 "metadata": {
  "kaggle": {
   "accelerator": "nvidiaTeslaT4",
   "dataSources": [
    {
     "datasetId": 4114823,
     "sourceId": 7515715,
     "sourceType": "datasetVersion"
    }
   ],
   "dockerImageVersionId": 30716,
   "isGpuEnabled": true,
   "isInternetEnabled": true,
   "language": "python",
   "sourceType": "notebook"
  },
  "kernelspec": {
   "display_name": "Python 3",
   "language": "python",
   "name": "python3"
  },
  "language_info": {
   "codemirror_mode": {
    "name": "ipython",
    "version": 3
   },
   "file_extension": ".py",
   "mimetype": "text/x-python",
   "name": "python",
   "nbconvert_exporter": "python",
   "pygments_lexer": "ipython3",
   "version": "3.10.13"
  },
  "papermill": {
   "default_parameters": {},
   "duration": 100.715247,
   "end_time": "2024-06-09T14:53:57.896685",
   "environment_variables": {},
   "exception": null,
   "input_path": "__notebook__.ipynb",
   "output_path": "__notebook__.ipynb",
   "parameters": {},
   "start_time": "2024-06-09T14:52:17.181438",
   "version": "2.5.0"
  }
 },
 "nbformat": 4,
 "nbformat_minor": 5
}
